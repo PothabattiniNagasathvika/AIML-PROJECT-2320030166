{
  "nbformat": 4,
  "nbformat_minor": 0,
  "metadata": {
    "colab": {
      "provenance": [],
      "authorship_tag": "ABX9TyNTHnagSHlVXgJ5UUtOZZOd",
      "include_colab_link": true
    },
    "kernelspec": {
      "name": "python3",
      "display_name": "Python 3"
    },
    "language_info": {
      "name": "python"
    }
  },
  "cells": [
    {
      "cell_type": "markdown",
      "metadata": {
        "id": "view-in-github",
        "colab_type": "text"
      },
      "source": [
        "<a href=\"https://colab.research.google.com/github/PothabattiniNagasathvika/AIML-PROJECT-2320030166/blob/main/AIML_LAB.ipynb\" target=\"_parent\"><img src=\"https://colab.research.google.com/assets/colab-badge.svg\" alt=\"Open In Colab\"/></a>"
      ]
    },
    {
      "cell_type": "code",
      "execution_count": 1,
      "metadata": {
        "colab": {
          "base_uri": "https://localhost:8080/"
        },
        "id": "K_hanhl9TnUx",
        "outputId": "d845921b-c5b3-4c06-9674-da88dcea140c"
      },
      "outputs": [
        {
          "output_type": "stream",
          "name": "stdout",
          "text": [
            "Following is Breadth First Traversal (starting from vertex 2)\n",
            "2 0 3 1 "
          ]
        }
      ],
      "source": [
        "#bfs\n",
        "\n",
        "from collections import defaultdict\n",
        "\n",
        "class Graph:\n",
        "\n",
        "    def __init__(self):\n",
        "\n",
        "        self.graph = defaultdict(list)\n",
        "\n",
        "    def addEdge(self, u, v):\n",
        "        self.graph[u].append(v)\n",
        "\n",
        "    def BFS(self, s):\n",
        "\n",
        "        visited = [False] * (max(self.graph) + 1)\n",
        "\n",
        "        queue = []\n",
        "\n",
        "        queue.append(s)\n",
        "        visited[s] = True\n",
        "\n",
        "        while queue:\n",
        "\n",
        "            s = queue.pop(0)\n",
        "            print(s, end=\" \")\n",
        "\n",
        "            for i in self.graph[s]:\n",
        "                if not visited[i]:\n",
        "                    queue.append(i)\n",
        "                    visited[i] = True\n",
        "if __name__ == '__main__':\n",
        "\n",
        "    g = Graph()\n",
        "    g.addEdge(0, 1)\n",
        "    g.addEdge(0, 2)\n",
        "    g.addEdge(1, 2)\n",
        "    g.addEdge(2, 0)\n",
        "    g.addEdge(2, 3)\n",
        "    g.addEdge(3, 3)\n",
        "\n",
        "    print(\"Following is Breadth First Traversal\"\n",
        "        \" (starting from vertex 2)\")\n",
        "    g.BFS(2)\n"
      ]
    },
    {
      "cell_type": "code",
      "source": [
        "from collections import defaultdict\n",
        "\n",
        "\n",
        "class Graph:\n",
        "\n",
        "\n",
        "    def __init__(self):\n",
        "\n",
        "\n",
        "        self.graph = defaultdict(list)\n",
        "\n",
        "\n",
        "\n",
        "    def addEdge(self, u, v):\n",
        "        self.graph[u].append(v)\n",
        "\n",
        "\n",
        "    def DFSUtil(self, v, visited):\n",
        "\n",
        "\n",
        "        visited.add(v)\n",
        "        print(v, end=' ')\n",
        "\n",
        "\n",
        "        for neighbour in self.graph[v]:\n",
        "            if neighbour not in visited:\n",
        "                self.DFSUtil(neighbour, visited)\n",
        "\n",
        "\n",
        "\n",
        "    def DFS(self, v):\n",
        "\n",
        "        visited = set()\n",
        "\n",
        "\n",
        "        self.DFSUtil(v, visited)\n",
        "\n",
        "\n",
        "if __name__ == \"__main__\":\n",
        "    g = Graph()\n",
        "    g.addEdge(0, 1)\n",
        "    g.addEdge(0, 2)\n",
        "    g.addEdge(1, 2)\n",
        "    g.addEdge(2, 0)\n",
        "    g.addEdge(2, 3)\n",
        "    g.addEdge(3, 3)\n",
        "\n",
        "    print(\"Following is Depth First Traversal (starting from vertex 2)\")\n",
        "\n",
        "    g.DFS(2)\n"
      ],
      "metadata": {
        "colab": {
          "base_uri": "https://localhost:8080/"
        },
        "id": "wn_vkC_vX2v3",
        "outputId": "6037be8f-1521-49da-832d-8e656f4227e3"
      },
      "execution_count": 2,
      "outputs": [
        {
          "output_type": "stream",
          "name": "stdout",
          "text": [
            "Following is Depth First Traversal (starting from vertex 2)\n",
            "2 0 1 3 "
          ]
        }
      ]
    },
    {
      "cell_type": "code",
      "source": [
        "#dfs\n",
        "class Graph:\n",
        "    def __init__(self, edges):\n",
        "        self.graph = {}\n",
        "        for (u, v) in edges:\n",
        "            if u in self.graph:\n",
        "                self.graph[u].append(v)\n",
        "            else:\n",
        "                self.graph[u] = [v]\n",
        "\n",
        "\n",
        "    def dfs(self, src, target, max_depth):\n",
        "        if src == target:\n",
        "            return True\n",
        "        if max_depth <= 0:\n",
        "            return False\n",
        "\n",
        "\n",
        "        for neighbor in self.graph.get(src, []):\n",
        "            if self.dfs(neighbor, target, max_depth - 1):\n",
        "                return True\n",
        "        return False\n",
        "\n",
        "\n",
        "    def iddfs(self, src, target, max_depth):\n",
        "        for depth in range(max_depth):\n",
        "            if self.dfs(src, target, depth):\n",
        "                return True\n",
        "        return False\n",
        "\n",
        "\n",
        "\n",
        "edges = [\n",
        "    (0, 1), (0, 2), (1, 3), (1, 4), (2, 5), (2, 6),\n",
        "    (3, 7), (4, 8), (5, 9), (6, 10)\n",
        "]\n",
        "\n",
        "g = Graph(edges)\n",
        "\n",
        "src = 0\n",
        "target = 9\n",
        "max_depth = 4\n",
        "\n",
        "if g.iddfs(src, target, max_depth):\n",
        "    print(f\"Target {target} found within depth {max_depth}\")\n",
        "else:\n",
        "    print(f\"Target {target} not found within depth {max_depth}\")\n"
      ],
      "metadata": {
        "colab": {
          "base_uri": "https://localhost:8080/"
        },
        "id": "JxzZnK1sbX3k",
        "outputId": "5f67d4b5-649b-4e53-91d0-aeae03accc31"
      },
      "execution_count": 3,
      "outputs": [
        {
          "output_type": "stream",
          "name": "stdout",
          "text": [
            "Target 9 found within depth 4\n"
          ]
        }
      ]
    },
    {
      "cell_type": "code",
      "source": [
        "import random\n",
        "from datetime import datetime, timedelta\n",
        "\n",
        "def random_date(start, end):\n",
        "    # Get the time difference between the start and end\n",
        "    time_between = end - start\n",
        "    # Generate a random duration within that range\n",
        "    random_duration = random.randrange(time_between.total_seconds())\n",
        "    # Return the random date by adding the random duration to the start date\n",
        "    return start + timedelta(seconds=random_duration)\n",
        "\n",
        "# Example usage\n",
        "start_date = datetime(2020, 1, 1, 0, 0, 0)  # Starting point (1st Jan 2020)\n",
        "end_date = datetime(2023, 12, 31, 23, 59, 59)  # Ending point (31st Dec 2023)\n",
        "\n",
        "random_moment = random_date(start_date, end_date)\n",
        "print(\"Random Date and Time:\", random_moment)\n"
      ],
      "metadata": {
        "colab": {
          "base_uri": "https://localhost:8080/"
        },
        "id": "_DL9R6yhb29A",
        "outputId": "ef5c297d-beaf-4465-c97b-719c80e91a72"
      },
      "execution_count": 5,
      "outputs": [
        {
          "output_type": "stream",
          "name": "stdout",
          "text": [
            "Random Date and Time: 2020-02-06 21:22:20\n"
          ]
        },
        {
          "output_type": "stream",
          "name": "stderr",
          "text": [
            "<ipython-input-5-b297e21a5329>:8: DeprecationWarning: non-integer arguments to randrange() have been deprecated since Python 3.10 and will be removed in a subsequent version\n",
            "  random_duration = random.randrange(time_between.total_seconds())\n"
          ]
        }
      ]
    },
    {
      "cell_type": "code",
      "source": [
        "\n",
        "from queue import PriorityQueue\n",
        "\n",
        "# Heuristic function: Manhattan distance\n",
        "def heuristic(a, b):\n",
        "    return abs(a[0] - b[0]) + abs(a[1] - b[1])\n",
        "\n",
        "# A* Algorithm\n",
        "def a_star(start, goal, grid):\n",
        "    rows, cols = len(grid), len(grid[0])\n",
        "    open_set = PriorityQueue()\n",
        "    open_set.put((0, start))\n",
        "\n",
        "    came_from = {}\n",
        "    g_score = {start: 0}\n",
        "    f_score = {start: heuristic(start, goal)}\n",
        "\n",
        "    while not open_set.empty():\n",
        "        current = open_set.get()[1]\n",
        "\n",
        "        # Goal reached\n",
        "        if current == goal:\n",
        "            path = []\n",
        "            while current in came_from:\n",
        "                path.append(current)\n",
        "                current = came_from[current]\n",
        "            path.append(start)\n",
        "            path.reverse()\n",
        "            return path\n",
        "\n",
        "        # Neighbors of the current node\n",
        "        for d in [(0, 1), (1, 0), (0, -1), (-1, 0)]:\n",
        "            neighbor = (current[0] + d[0], current[1] + d[1])\n",
        "            if 0 <= neighbor[0] < rows and 0 <= neighbor[1] < cols and grid[neighbor[0]][neighbor[1]] == 0:\n",
        "                tentative_g_score = g_score[current] + 1\n",
        "\n",
        "                if neighbor not in g_score or tentative_g_score < g_score[neighbor]:\n",
        "                    came_from[neighbor] = current\n",
        "                    g_score[neighbor] = tentative_g_score\n",
        "                    f_score[neighbor] = tentative_g_score + heuristic(neighbor, goal)\n",
        "                    open_set.put((f_score[neighbor], neighbor))\n",
        "\n",
        "    return None  # No path found\n",
        "\n",
        "# Example grid (0 = passable, 1 = obstacle)\n",
        "grid = [\n",
        "    [0, 1, 0, 0, 0, 0],\n",
        "    [0, 1, 0, 1, 1, 0],\n",
        "    [0, 0, 0, 0, 1, 0],\n",
        "    [0, 1, 1, 0, 0, 0],\n",
        "    [0, 0, 0, 0, 1, 0]\n",
        "]\n",
        "\n",
        "# Start and goal positions\n",
        "start = (0, 0)\n",
        "goal = (4, 5)\n",
        "\n",
        "# Run A* algorithm\n",
        "path = a_star(start, goal, grid)\n",
        "\n",
        "# Print the result\n",
        "if path:\n",
        "    print(\"Path found:\", path)\n",
        "else:\n",
        "    print(\"No path found\")\n"
      ],
      "metadata": {
        "colab": {
          "base_uri": "https://localhost:8080/"
        },
        "id": "RcumNWwJcKqF",
        "outputId": "6f6d4a74-9a03-461b-84a1-f45a17c5b87f"
      },
      "execution_count": 8,
      "outputs": [
        {
          "output_type": "stream",
          "name": "stdout",
          "text": [
            "Path found: [(0, 0), (1, 0), (2, 0), (2, 1), (2, 2), (2, 3), (3, 3), (3, 4), (3, 5), (4, 5)]\n"
          ]
        }
      ]
    },
    {
      "cell_type": "code",
      "source": [
        "import matplotlib.pyplot as plt\n",
        "import numpy as np\n",
        "\n",
        "# Sample data: Ages\n",
        "ages = np.random.randint(18, 70, size=100)  # Generating random ages for example\n",
        "\n",
        "# Create a histogram\n",
        "plt.hist(ages, bins=10, color='skyblue', edgecolor='black')\n",
        "plt.xlabel('Age')\n",
        "plt.ylabel('Frequency')\n",
        "plt.title('Distribution of Ages')\n",
        "plt.show()"
      ],
      "metadata": {
        "colab": {
          "base_uri": "https://localhost:8080/",
          "height": 472
        },
        "id": "4VMoFQChdz9A",
        "outputId": "53bc81ca-072c-45da-8eec-de6a465c0caa"
      },
      "execution_count": 9,
      "outputs": [
        {
          "output_type": "display_data",
          "data": {
            "text/plain": [
              "<Figure size 640x480 with 1 Axes>"
            ],
            "image/png": "[encoded data removed]"
          },
          "metadata": {}
        }
      ]
    },
    {
      "cell_type": "code",
      "source": [
        "import matplotlib.pyplot as plt\n",
        "import numpy as np\n",
        "\n",
        "x = np.random.normal(170, 10, 250)\n",
        "\n",
        "plt.hist(x)\n",
        "plt.show()"
      ],
      "metadata": {
        "colab": {
          "base_uri": "https://localhost:8080/",
          "height": 430
        },
        "id": "dd8z06N1e97w",
        "outputId": "e6c66b5f-a91e-411e-a361-9af5b174c38c"
      },
      "execution_count": 10,
      "outputs": [
        {
          "output_type": "display_data",
          "data": {
            "text/plain": [
              "<Figure size 640x480 with 1 Axes>"
            ],
            "image/png": "[encoded data removed]"
          },
          "metadata": {}
        }
      ]
    }
  ]
}